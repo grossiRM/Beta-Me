{
 "cells": [
  {
   "cell_type": "markdown",
   "metadata": {},
   "source": [
    "<font color='blue'> **Frey_PEST_01** </font> "
   ]
  },
  {
   "cell_type": "code",
   "execution_count": 1,
   "metadata": {},
   "outputs": [],
   "source": [
    "%%capture  \n",
    "import sys  ; import os ; import platform ; import matplotlib.pyplot as plt; import pyemu ; import flopy\n",
    "import warnings ; warnings.filterwarnings(\"ignore\") ; warnings.filterwarnings(\"ignore\", category=DeprecationWarning) ; from pathlib import Path         \n",
    "\n",
    "ref_data  = os.path.join('E:/15_REPOS/01_Beta-Me/data/GMDSI/monthly_model_files_1lyr_newstress&exe')\n",
    "\n",
    "import shutil                     ; _RES = Path(\"./_RES/02a_Frey_PEST_01\")     ; _RES.mkdir(exist_ok=True)  \n",
    "import numpy as np                ; TA   = Path(\"./_RES/02a_Frey_PEST_01/TA\")  ; TA.mkdir(exist_ok=True)    \n",
    "import pandas as pd               ; TB   = Path(\"./_RES/02a_Frey_PEST_01/TB\")  ; TB.mkdir(exist_ok=True)    \n",
    "if os.path.exists(TA): shutil.rmtree(TA)\n",
    "shutil.copytree(ref_data,TA)    # ; pd.DataFrame(os.listdir(_RES)).to_csv(_RES/\"selection.csv\")     ; os.startfile(_RES/\"selection.csv\") \n",
    "\n",
    "pyemu.os_utils.run(\"mf6\",cwd=TA)                         #  ; os.startfile('E:/15_REPOS/02_Beta-Me_GMDSI/a_Beta/XLS/08a_Frey_PEST_01.xlsx')\n",
    "#pd.DataFrame(os.listdir(TA)).to_csv(_RES/\"01_LIST.csv\")    ; os.startfile(_RES/'01_LIST.csv')\n",
    "pf = pyemu.utils.PstFrom (original_d=TA, new_d=TB, remove_existing=True)      \n",
    "pd.DataFrame(os.listdir(TB)).to_csv(_RES/\"02_LIST.csv\")         ; os.startfile(_RES/'02_LIST.csv')"
   ]
  },
  {
   "cell_type": "markdown",
   "metadata": {},
   "source": [
    "<font color='red'> **PAR** </font><br><font color='blue'> **OBS** </font> "
   ]
  },
  {
   "cell_type": "code",
   "execution_count": 2,
   "metadata": {},
   "outputs": [],
   "source": [
    "%%capture \n",
    "pf.add_parameters('freyberg6.npf_k_layer1.txt' ,par_type='grid'  ,upper_bound=1 ,lower_bound=10) \n",
    "obs = pd.read_csv(os.path.join(ref_data , 'heads.csv'))  ; print(obs.columns.tolist()[1:])\n",
    "pf.add_observations('heads.csv'    ,index_cols = 'time' ,use_cols = obs.columns[1])    "
   ]
  },
  {
   "cell_type": "markdown",
   "metadata": {},
   "source": [
    "<font color='green'> **RUN** </font>"
   ]
  },
  {
   "cell_type": "code",
   "execution_count": 3,
   "metadata": {},
   "outputs": [
    {
     "name": "stdout",
     "output_type": "stream",
     "text": [
      "noptmax:0, npar_adj:800, nnz_obs:25\n",
      "2025-09-08 07:27:18.648645 forward_run line:pyemu.os_utils.run(r'mf6')\n",
      "\n",
      "pestpp-ies.exe freyberg.pst\n"
     ]
    }
   ],
   "source": [
    "pf.mod_sys_cmds.append('mf6') \n",
    "pst= pf.build_pst(filename=os.path.join(pf.new_d,'freyberg.pst'),version=2)\n",
    "os.startfile(TB/'forward_run.py')    ;os.startfile(TB/'freyberg.pst')\n",
    "#pd.DataFrame(os.listdir(TB)).to_csv(_RES/\"03_LIST.csv\")  ; os.startfile(_RES/'03_LIST.csv')       \n",
    "\n",
    "pyemu.os_utils.run('pestpp-ies freyberg.pst',cwd=TB)\n",
    "pd.DataFrame(os.listdir(TB)).to_csv(_RES/\"04_LIST.csv\")   ; os.startfile(_RES/'04_LIST.csv')  ; os.startfile(TB/'freyberg.rec')"
   ]
  }
 ],
 "metadata": {
  "kernelspec": {
   "display_name": "gmdsitut",
   "language": "python",
   "name": "python3"
  },
  "language_info": {
   "codemirror_mode": {
    "name": "ipython",
    "version": 3
   },
   "file_extension": ".py",
   "mimetype": "text/x-python",
   "name": "python",
   "nbconvert_exporter": "python",
   "pygments_lexer": "ipython3",
   "version": "3.11.11"
  }
 },
 "nbformat": 4,
 "nbformat_minor": 4
}
